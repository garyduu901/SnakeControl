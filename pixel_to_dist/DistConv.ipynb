{
 "cells": [
  {
   "cell_type": "markdown",
   "metadata": {},
   "source": [
    "## Converting Pixels in Image to Physical Distance with Monocular Camera"
   ]
  },
  {
   "cell_type": "markdown",
   "metadata": {},
   "source": [
    "Import needed libraries"
   ]
  },
  {
   "cell_type": "code",
   "execution_count": 4,
   "metadata": {},
   "outputs": [],
   "source": [
    "import numpy as np\n",
    "import cv2 as cv\n",
    "import glob\n",
    "import math"
   ]
  },
  {
   "cell_type": "markdown",
   "metadata": {},
   "source": [
    "Camera Calibration Code from https://www.youtube.com/watch?v=3h7wgR5fYik"
   ]
  },
  {
   "cell_type": "code",
   "execution_count": 5,
   "metadata": {},
   "outputs": [
    {
     "name": "stdout",
     "output_type": "stream",
     "text": [
      "Found 5 images.\n",
      "Processing: captured_images\\image_1.jpg\n",
      "Processing: captured_images\\image_2.jpg\n",
      "Processing: captured_images\\image_3.jpg\n",
      "Processing: captured_images\\image_4.jpg\n",
      "Processing: captured_images\\image_5.jpg\n",
      "Camera Calibrated: 0.8788909130594953\n",
      "\n",
      "Camera Matrix:\n",
      " [[1.73836169e+04 0.00000000e+00 6.01859190e+02]\n",
      " [0.00000000e+00 1.73671699e+04 4.59314572e+02]\n",
      " [0.00000000e+00 0.00000000e+00 1.00000000e+00]]\n"
     ]
    }
   ],
   "source": [
    "# Chessboard size\n",
    "chessBoardSize = (9, 9)  # Size of the chessboard\n",
    "frameSize = (1280, 720)   # Size of the images\n",
    "\n",
    "# Termination criteria \n",
    "criteria = (cv.TERM_CRITERIA_EPS + cv.TERM_CRITERIA_MAX_ITER, 30, 0.001)\n",
    "\n",
    "# Prepare object points like (0,0,0), (1,0,0), ..., (8,7,0)\n",
    "objp = np.zeros((chessBoardSize[0] * chessBoardSize[1], 3), np.float32)\n",
    "objp[:, :2] = np.mgrid[0:chessBoardSize[0], 0:chessBoardSize[1]].T.reshape(-1, 2)\n",
    "\n",
    "# Arrays to store object points and image points from all images\n",
    "objPoints = []  # 3D point in real world space \n",
    "imgPoints = []  # 2D point in image space \n",
    "\n",
    "# Read images from the captured_images folder\n",
    "images = glob.glob('captured_images/*.jpg')\n",
    "\n",
    "# Debug: Check if images are found\n",
    "if not images:\n",
    "    print(\"No images found in the 'captured_images' folder. Check the folder path and file extensions.\")\n",
    "else:\n",
    "    print(\"Found {} images.\".format(len(images)))\n",
    "\n",
    "for image in images:\n",
    "    print(\"Processing:\", image)\n",
    "    img = cv.imread(image)\n",
    "    if img is None:\n",
    "        print(\"Failed to load image {}\".format(image))\n",
    "        continue\n",
    "    gray = cv.cvtColor(img, cv.COLOR_BGR2GRAY)\n",
    "    # NEW: sharpening the image may gives more allowance for blurriness\n",
    "    kernel = np.array([[0, -1, 0], [-1, 5, -1], [0, -1, 0]]) \n",
    "    sharpened = cv.filter2D(gray, -1, kernel)\n",
    "\n",
    "    # Find the chessboard corners\n",
    "    ret, corners = cv.findChessboardCorners(sharpened, chessBoardSize, None)\n",
    "\n",
    "    # If found, add object points and image points (after refining them)\n",
    "    if ret:\n",
    "        objPoints.append(objp)\n",
    "        corners2 = cv.cornerSubPix(sharpened, corners, (11, 11), (-1, -1), criteria)\n",
    "        imgPoints.append(corners2)\n",
    "\n",
    "        # Draw and display the corners \n",
    "        cv.drawChessboardCorners(img, chessBoardSize, corners2, ret)\n",
    "        cv.imshow('img', img)\n",
    "        cv.waitKey(5000)\n",
    "    else:\n",
    "        print(\"Chessboard corners not found in image {}\".format(image))\n",
    "\n",
    "cv.destroyAllWindows()\n",
    "\n",
    "# Check if we have enough points for calibration\n",
    "if len(objPoints) == 0 or len(imgPoints) == 0:\n",
    "    print(\"No valid points found for calibration. Please check your images and chessboard pattern.\")\n",
    "else:\n",
    "    # Perform calibration\n",
    "    ret, cameraMatrix, dist, rvecs, tvecs = cv.calibrateCamera(objPoints, imgPoints, frameSize, None, None)\n",
    "    print(\"Camera Calibrated:\", ret)\n",
    "    print(\"\\nCamera Matrix:\\n\", cameraMatrix)\n",
    "    # print(\"\\nDistortion Parameters:\\n\", dist)\n",
    "    # print(\"\\nRotation Vectors:\\n\", rvecs)\n",
    "    # print(\"\\nTranslation Vectors:\\n\", tvecs)"
   ]
  },
  {
   "cell_type": "markdown",
   "metadata": {},
   "source": [
    "We need the focal length of the camera in x and y direction, fx, fy. <br>\n",
    "According to: https://stackoverflow.com/questions/58269814/how-to-get-camera-focal-length-with-opencv <br>\n",
    "The `cameraMatrix` in the above code block showed included such needed values of focal length in pixels."
   ]
  },
  {
   "cell_type": "code",
   "execution_count": 3,
   "metadata": {},
   "outputs": [
    {
     "data": {
      "text/plain": [
       "(17383.616892447702, 17367.169914570306)"
      ]
     },
     "execution_count": 3,
     "metadata": {},
     "output_type": "execute_result"
    }
   ],
   "source": [
    "fx = cameraMatrix[0][0]\n",
    "fy = cameraMatrix[1][1]\n",
    "fx, fy"
   ]
  },
  {
   "cell_type": "markdown",
   "metadata": {},
   "source": [
    "Since we have monocular camera, the focal length values are constants.\n",
    "Also, as the snake 2D motion is assumed to be on a different physical level (z value) from where the chessboard used for calibration, the distance between the 2D plane where the operations are happening and between the camera is needed to convert number of pixels between points into actual distance. However, we still need a reference object with its actual dimension. \n",
    "\n",
    "The formula is F = P * D / W\n",
    "where: \n",
    "- F = focal length\n",
    "- P = number of pixels between two points\n",
    "- D = distance from camera to the plane of movement \n",
    "- W = distance measured physically\n",
    "\n",
    "In the case of actual data collection, such reference will be the snake itself. For demo purpose, a zoomed in version of the chessboard is used as a reference. "
   ]
  },
  {
   "cell_type": "markdown",
   "metadata": {},
   "source": [
    "### Calculate distance between the chessboard and the camera for `diff_z.jpg`\n",
    "To calculate such value, we rearrange the formula:\n",
    "D = W * F / P\n",
    "where:\n",
    "- D = distance from camera to the chessboard\n",
    "- W = distance measured physically = 0.5 mm between each corner\n",
    "- F = focal length\n",
    "- P = number of pixels between two corners\n",
    "\n",
    "All variable are either known or can be measured from the image, except D, as we cannot directly know from the image. \n",
    "We acquire P from the code below:"
   ]
  },
  {
   "cell_type": "code",
   "execution_count": 15,
   "metadata": {},
   "outputs": [],
   "source": [
    "W = 0.5"
   ]
  },
  {
   "cell_type": "code",
   "execution_count": 14,
   "metadata": {},
   "outputs": [
    {
     "data": {
      "text/plain": [
       "37.787073626947965"
      ]
     },
     "execution_count": 14,
     "metadata": {},
     "output_type": "execute_result"
    }
   ],
   "source": [
    "ref = cv.imread('diff_z.jpg')\n",
    "chessBoardSize = (9, 9)  # Size of the chessboard\n",
    "criteria = (cv.TERM_CRITERIA_EPS + cv.TERM_CRITERIA_MAX_ITER, 30, 0.001)\n",
    "\n",
    "# Get corners from calibrated images\n",
    "gray = cv.cvtColor(ref, cv.COLOR_BGR2GRAY)\n",
    "kernel = np.array([[0, -1, 0], [-1, 5, -1], [0, -1, 0]]) \n",
    "sharpened = cv.filter2D(gray, -1, kernel)\n",
    "ret, corners = cv.findChessboardCorners(sharpened, chessBoardSize, None)\n",
    "corners = cv.cornerSubPix(sharpened, corners, (11, 11), (-1, -1), criteria)\n",
    "\n",
    "# Acquire side length\n",
    "side_length = []\n",
    "\n",
    "for i in range(chessBoardSize[1]):\n",
    "    for j in range(chessBoardSize[0] - 1):\n",
    "        curr_corner = corners[j+i*9][0]\n",
    "        next_corner = corners[j+i*9+1][0]\n",
    "        pixel_num = math.sqrt((curr_corner[0]-next_corner[0])**2 + (curr_corner[1]-next_corner[1])**2)\n",
    "        side_length.append(pixel_num)\n",
    "    \n",
    "\n",
    "P = np.average(side_length)\n",
    "\n",
    "P"
   ]
  },
  {
   "cell_type": "markdown",
   "metadata": {},
   "source": [
    "Calculate D:"
   ]
  },
  {
   "cell_type": "code",
   "execution_count": 16,
   "metadata": {},
   "outputs": [
    {
     "data": {
      "text/plain": [
       "230.02068199388856"
      ]
     },
     "execution_count": 16,
     "metadata": {},
     "output_type": "execute_result"
    }
   ],
   "source": [
    "D = W * fx / P\n",
    "D"
   ]
  },
  {
   "cell_type": "markdown",
   "metadata": {},
   "source": [
    "Any other unknown physical width on this plane can then be calculated with the rearrangement of the formula: </br>\n",
    "W' = D * P' / F </br>\n",
    "`W'` is the desired physical distance to be determined on this plane. </br>\n",
    "`P'` is the number of pixels on the path shown in image."
   ]
  },
  {
   "cell_type": "markdown",
   "metadata": {},
   "source": [
    "Testing with P' = 2P"
   ]
  },
  {
   "cell_type": "code",
   "execution_count": 17,
   "metadata": {},
   "outputs": [
    {
     "data": {
      "text/plain": [
       "1.0"
      ]
     },
     "execution_count": 17,
     "metadata": {},
     "output_type": "execute_result"
    }
   ],
   "source": [
    "W_prime = D * P * 2 / fx\n",
    "W_prime"
   ]
  }
 ],
 "metadata": {
  "kernelspec": {
   "display_name": "Python 3",
   "language": "python",
   "name": "python3"
  },
  "language_info": {
   "codemirror_mode": {
    "name": "ipython",
    "version": 3
   },
   "file_extension": ".py",
   "mimetype": "text/x-python",
   "name": "python",
   "nbconvert_exporter": "python",
   "pygments_lexer": "ipython3",
   "version": "3.11.5"
  }
 },
 "nbformat": 4,
 "nbformat_minor": 2
}
